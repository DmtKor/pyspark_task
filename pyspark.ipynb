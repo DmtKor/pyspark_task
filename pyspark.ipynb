{
 "cells": [
  {
   "cell_type": "code",
   "execution_count": 1,
   "id": "01d720b4",
   "metadata": {},
   "outputs": [
    {
     "name": "stdout",
     "output_type": "stream",
     "text": [
      "Requirement already satisfied: pyspark==3.0.1 in /home/dmitriy/anaconda3/lib/python3.8/site-packages (3.0.1)\n",
      "Requirement already satisfied: py4j==0.10.9 in /home/dmitriy/anaconda3/lib/python3.8/site-packages (0.10.9)\n"
     ]
    }
   ],
   "source": [
    "!pip install pyspark==3.0.1 py4j==0.10.9"
   ]
  },
  {
   "cell_type": "code",
   "execution_count": 2,
   "id": "7c5c6f9e",
   "metadata": {},
   "outputs": [
    {
     "name": "stderr",
     "output_type": "stream",
     "text": [
      "25/10/19 23:49:43 WARN Utils: Your hostname, asus-manjaro resolves to a loopback address: 127.0.1.1; using 192.168.1.44 instead (on interface wlp3s0)\n",
      "25/10/19 23:49:43 WARN Utils: Set SPARK_LOCAL_IP if you need to bind to another address\n",
      "25/10/19 23:49:44 WARN NativeCodeLoader: Unable to load native-hadoop library for your platform... using builtin-java classes where applicable\n",
      "Using Spark's default log4j profile: org/apache/spark/log4j-defaults.properties\n",
      "Setting default log level to \"WARN\".\n",
      "To adjust logging level use sc.setLogLevel(newLevel). For SparkR, use setLogLevel(newLevel).\n"
     ]
    }
   ],
   "source": [
    "from pyspark.sql import SparkSession, DataFrame\n",
    "from typing import Tuple\n",
    "\n",
    "spark = SparkSession.builder.appName(\"PySpark 101\").getOrCreate()"
   ]
  },
  {
   "cell_type": "code",
   "execution_count": 3,
   "id": "ffaef465",
   "metadata": {},
   "outputs": [],
   "source": [
    "products_df = spark.createDataFrame([\n",
    "    (\"Product A\", 1),\n",
    "    (\"Product B\", 2),\n",
    "    (\"Product C\", 3),\n",
    "    (\"Product D\", 4),\n",
    "    (\"Product E\", 5),\n",
    "], schema=[\"prod_name\", \"prod_id\"])\n",
    "\n",
    "categories_df = spark.createDataFrame([\n",
    "    (\"Category 1\", 1),\n",
    "    (\"Category 2\", 2),\n",
    "    (\"Category 3\", 3),\n",
    "], schema=[\"cat_name\", \"cat_id\"])\n",
    "\n",
    "links_df = spark.createDataFrame([\n",
    "    (1, 1),\n",
    "    (2, 2),\n",
    "    (3, 2),\n",
    "], schema=[\"prod_id\", \"cat_id\"])"
   ]
  },
  {
   "cell_type": "code",
   "execution_count": 4,
   "id": "10f9111f",
   "metadata": {},
   "outputs": [],
   "source": [
    "def get_pairs(spark: SparkSession, \\\n",
    "              products_df: DataFrame, \\\n",
    "                categories_df: DataFrame, \\\n",
    "                    links_df: DataFrame)\\\n",
    "                          -> Tuple[DataFrame, DataFrame]:\n",
    "    \"\"\"\n",
    "    Parameters:\n",
    "        spark - active spark session\n",
    "        products_df - DataFrame with columns \"prod_name\", \"prod_id\"\n",
    "        categories_df - DataFrame with columns \"cat_name\", \"cat_id\"\n",
    "        links_df - DataFrame with columns \"cat_id\", \"prod_id\"\n",
    "    \n",
    "    Returns:\n",
    "        df1 - DataFrame with each prod_name-cat_name pair \n",
    "        df2 - names (prod_name) of all products without a single category\n",
    "    \"\"\"\n",
    "    df1 = links_df.join(products_df, \"prod_id\").join(categories_df, \"cat_id\").select(\"prod_name\", \"cat_name\")\n",
    "    df2 = products_df.join(links_df, \"prod_id\", \"left\")\n",
    "    df2 = df2.filter(df2[\"cat_id\"].isNull()).select(\"prod_name\")\n",
    "    return df1, df2"
   ]
  },
  {
   "cell_type": "code",
   "execution_count": 5,
   "id": "3a19fcfa",
   "metadata": {},
   "outputs": [
    {
     "name": "stdout",
     "output_type": "stream",
     "text": [
      "Products with categories (each pair)\n"
     ]
    },
    {
     "name": "stderr",
     "output_type": "stream",
     "text": [
      "                                                                                \r"
     ]
    },
    {
     "name": "stdout",
     "output_type": "stream",
     "text": [
      "+---------+----------+\n",
      "|prod_name|  cat_name|\n",
      "+---------+----------+\n",
      "|Product A|Category 1|\n",
      "|Product C|Category 2|\n",
      "|Product B|Category 2|\n",
      "+---------+----------+\n",
      "\n",
      "Products without categories\n",
      "+---------+\n",
      "|prod_name|\n",
      "+---------+\n",
      "|Product E|\n",
      "|Product D|\n",
      "+---------+\n",
      "\n"
     ]
    }
   ],
   "source": [
    "prod_cat_df, prod_without_cat_df = get_pairs(spark, products_df, categories_df, links_df)\n",
    "print(\"Products with categories (each pair)\")\n",
    "prod_cat_df.show()\n",
    "print(\"Products without categories\")\n",
    "prod_without_cat_df.show()\n",
    "spark.stop()"
   ]
  }
 ],
 "metadata": {
  "kernelspec": {
   "display_name": "base",
   "language": "python",
   "name": "python3"
  },
  "language_info": {
   "codemirror_mode": {
    "name": "ipython",
    "version": 3
   },
   "file_extension": ".py",
   "mimetype": "text/x-python",
   "name": "python",
   "nbconvert_exporter": "python",
   "pygments_lexer": "ipython3",
   "version": "3.8.5"
  }
 },
 "nbformat": 4,
 "nbformat_minor": 5
}
